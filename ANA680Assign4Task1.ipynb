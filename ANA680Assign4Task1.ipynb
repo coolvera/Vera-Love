{
 "cells": [
  {
   "cell_type": "code",
   "execution_count": 2,
   "id": "200b4534-f972-494b-843c-16de9fb35031",
   "metadata": {},
   "outputs": [],
   "source": [
    "import pandas as pd\n",
    "from sklearn.model_selection import train_test_split\n",
    "from sklearn.preprocessing import StandardScaler\n"
   ]
  },
  {
   "cell_type": "code",
   "execution_count": 4,
   "id": "6bd7b436-f496-4479-b04a-82cc3374f753",
   "metadata": {},
   "outputs": [],
   "source": [
    "url = \"https://archive.ics.uci.edu/ml/machine-learning-databases/breast-cancer-wisconsin/breast-cancer-wisconsin.data\"\n",
    "column_names = ['id', 'clump_thickness', 'cell_size_uniformity', 'cell_shape_uniformity', \n",
    "                'marginal_adhesion', 'single_epithelial_size', 'bare_nuclei', \n",
    "                'bland_chromatin', 'normal_nucleoli', 'mitoses', 'class']\n",
    "\n",
    "df = pd.read_csv(url, names=column_names)\n"
   ]
  },
  {
   "cell_type": "code",
   "execution_count": 6,
   "id": "9bb38601-dfbe-4745-9dc2-518b0e0bc1da",
   "metadata": {},
   "outputs": [],
   "source": [
    "df = df.replace('?', pd.NA).dropna()\n",
    "df = df.drop('id', axis=1)\n"
   ]
  },
  {
   "cell_type": "code",
   "execution_count": 8,
   "id": "f36bf600-055a-4f58-9ed9-03d2e3bb88d2",
   "metadata": {},
   "outputs": [],
   "source": [
    "df = df.apply(pd.to_numeric)"
   ]
  },
  {
   "cell_type": "code",
   "execution_count": 10,
   "id": "752a568f-1c70-4b20-9102-76d045002244",
   "metadata": {},
   "outputs": [],
   "source": [
    "X = df.drop('class', axis=1)\n",
    "y = df['class'].replace({2: 0, 4: 1})  # 2 for benign, 4 for malignant\n"
   ]
  },
  {
   "cell_type": "code",
   "execution_count": 12,
   "id": "b0dc2566-11fa-4c48-8cc9-e082036e0d9a",
   "metadata": {},
   "outputs": [],
   "source": [
    "X_train, X_test, y_train, y_test = train_test_split(X, y, test_size=0.2, random_state=42)\n"
   ]
  },
  {
   "cell_type": "code",
   "execution_count": 14,
   "id": "de526716-e5b8-43ee-8aac-cf5c16ee4bb6",
   "metadata": {},
   "outputs": [],
   "source": [
    "scaler = StandardScaler()\n",
    "X_train = scaler.fit_transform(X_train)\n",
    "X_test = scaler.transform(X_test)"
   ]
  },
  {
   "cell_type": "code",
   "execution_count": null,
   "id": "00ec913a-c5a7-4590-8091-c00d8945a80c",
   "metadata": {},
   "outputs": [],
   "source": [
    "# Train and evaluate models"
   ]
  },
  {
   "cell_type": "code",
   "execution_count": 16,
   "id": "9bdebc2e-0b68-4028-8614-6ed76cc772eb",
   "metadata": {},
   "outputs": [],
   "source": [
    "from sklearn.linear_model import LogisticRegression\n",
    "from sklearn.tree import DecisionTreeClassifier\n",
    "from sklearn.ensemble import RandomForestClassifier\n",
    "from sklearn.svm import SVC\n",
    "from sklearn.metrics import accuracy_score\n",
    "import pickle\n"
   ]
  },
  {
   "cell_type": "code",
   "execution_count": 18,
   "id": "5747bb1a-c533-4da8-8b80-2e8bb19d6e06",
   "metadata": {},
   "outputs": [],
   "source": [
    "models = {\n",
    "    \"Logistic Regression\": LogisticRegression(),\n",
    "    \"Decision Tree\": DecisionTreeClassifier(),\n",
    "    \"Random Forest\": RandomForestClassifier(),\n",
    "    \"SVM\": SVC()\n",
    "}\n"
   ]
  },
  {
   "cell_type": "code",
   "execution_count": 20,
   "id": "4debd803-646a-4ccc-a5c1-b72c785ff8a6",
   "metadata": {},
   "outputs": [],
   "source": [
    "best_model = None\n",
    "best_accuracy = 0\n",
    "best_model_name = \"\"\n",
    "best_model = None\n",
    "best_accuracy = 0\n",
    "best_model_name = \"\"\n"
   ]
  },
  {
   "cell_type": "code",
   "execution_count": 22,
   "id": "73dea3fc-1f3b-499b-a4e1-cf9bc4c0e02f",
   "metadata": {},
   "outputs": [
    {
     "name": "stdout",
     "output_type": "stream",
     "text": [
      "Logistic Regression Accuracy: 0.9562\n",
      "Decision Tree Accuracy: 0.9270\n",
      "Random Forest Accuracy: 0.9489\n",
      "SVM Accuracy: 0.9635\n",
      "\n",
      "Best model: SVM with accuracy: 0.9635\n"
     ]
    }
   ],
   "source": [
    "for name, model in models.items():\n",
    "    model.fit(X_train, y_train)\n",
    "    y_pred = model.predict(X_test)\n",
    "    accuracy = accuracy_score(y_test, y_pred)\n",
    "    print(f\"{name} Accuracy: {accuracy:.4f}\")\n",
    "    \n",
    "    if accuracy > best_accuracy:\n",
    "        best_accuracy = accuracy\n",
    "        best_model = model\n",
    "        best_model_name = name\n",
    "\n",
    "print(f\"\\nBest model: {best_model_name} with accuracy: {best_accuracy:.4f}\")\n"
   ]
  },
  {
   "cell_type": "code",
   "execution_count": 24,
   "id": "09010387-4fe2-4d9c-9da4-5292de88c98f",
   "metadata": {},
   "outputs": [],
   "source": [
    "with open('model.pkl', 'wb') as f:\n",
    "    pickle.dump(best_model, f)\n",
    "    \n",
    "with open('scaler.pkl', 'wb') as f:\n",
    "    pickle.dump(scaler, f)\n"
   ]
  }
 ],
 "metadata": {
  "kernelspec": {
   "display_name": "Python [conda env:base] *",
   "language": "python",
   "name": "conda-base-py"
  },
  "language_info": {
   "codemirror_mode": {
    "name": "ipython",
    "version": 3
   },
   "file_extension": ".py",
   "mimetype": "text/x-python",
   "name": "python",
   "nbconvert_exporter": "python",
   "pygments_lexer": "ipython3",
   "version": "3.12.7"
  }
 },
 "nbformat": 4,
 "nbformat_minor": 5
}
