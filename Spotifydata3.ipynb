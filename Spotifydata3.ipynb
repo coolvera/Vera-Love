{
 "cells": [
  {
   "cell_type": "code",
   "execution_count": 2,
   "id": "caf727f7-7e98-4ebb-a035-1cdac2deaede",
   "metadata": {},
   "outputs": [],
   "source": [
    "import pandas as pd \n",
    "import numpy as np\n",
    "import matplotlib.pyplot as plt"
   ]
  },
  {
   "cell_type": "code",
   "execution_count": 4,
   "id": "5e5d0571-6126-4eb4-a165-70bd89f39805",
   "metadata": {},
   "outputs": [],
   "source": [
    "df = pd.read_csv('spotify_history.csv')"
   ]
  },
  {
   "cell_type": "code",
   "execution_count": 6,
   "id": "805ed69c-145c-4495-a838-962ef7039ec1",
   "metadata": {},
   "outputs": [
    {
     "name": "stdout",
     "output_type": "stream",
     "text": [
      "        spotify_track_uri           ts    platform  ms_played  \\\n",
      "0  2J3n32GeLmMjwuAzyhcSNe  7/8/13 2:44  web player       3185   \n",
      "1  1oHxIPqJyvAYHy0PVrDU98  7/8/13 2:45  web player      61865   \n",
      "2  487OPlneJNni3NWC8SYqhW  7/8/13 2:50  web player     285386   \n",
      "3  5IyblF777jLZj1vGHG2UD3  7/8/13 2:52  web player     134022   \n",
      "4  0GgAAB0ZMllFhbNc3mAodO  7/8/13 3:17  web player          0   \n",
      "\n",
      "                                      track_name        artist_name  \\\n",
      "0                            Say It, Just Say It       The Mowgli's   \n",
      "1  Drinking from the Bottle (feat. Tinie Tempah)      Calvin Harris   \n",
      "2                                    Born To Die       Lana Del Rey   \n",
      "3                               Off To The Races       Lana Del Rey   \n",
      "4                                      Half Mast  Empire Of The Sun   \n",
      "\n",
      "                           album_name reason_start reason_end  shuffle  \\\n",
      "0                Waiting For The Dawn     autoplay   clickrow    False   \n",
      "1                           18 Months     clickrow   clickrow    False   \n",
      "2  Born To Die - The Paradise Edition     clickrow    unknown    False   \n",
      "3  Born To Die - The Paradise Edition    trackdone   clickrow    False   \n",
      "4                  Walking On A Dream     clickrow    nextbtn    False   \n",
      "\n",
      "   skipped  \n",
      "0    False  \n",
      "1    False  \n",
      "2    False  \n",
      "3    False  \n",
      "4    False  \n"
     ]
    }
   ],
   "source": [
    "print(df.head())"
   ]
  },
  {
   "cell_type": "code",
   "execution_count": 8,
   "id": "fa752962-8a23-409f-ad66-8e954a36b528",
   "metadata": {},
   "outputs": [
    {
     "name": "stdout",
     "output_type": "stream",
     "text": [
      "          ms_played\n",
      "count  1.498600e+05\n",
      "mean   1.283166e+05\n",
      "std    1.178401e+05\n",
      "min    0.000000e+00\n",
      "25%    2.795000e+03\n",
      "50%    1.388400e+05\n",
      "75%    2.185070e+05\n",
      "max    1.561125e+06\n"
     ]
    }
   ],
   "source": [
    "print(df.describe())"
   ]
  },
  {
   "cell_type": "code",
   "execution_count": 10,
   "id": "442da472-fd50-4600-803c-e10f3aff8533",
   "metadata": {},
   "outputs": [
    {
     "name": "stdout",
     "output_type": "stream",
     "text": [
      "<class 'pandas.core.frame.DataFrame'>\n",
      "RangeIndex: 149860 entries, 0 to 149859\n",
      "Data columns (total 11 columns):\n",
      " #   Column             Non-Null Count   Dtype \n",
      "---  ------             --------------   ----- \n",
      " 0   spotify_track_uri  149860 non-null  object\n",
      " 1   ts                 149860 non-null  object\n",
      " 2   platform           149860 non-null  object\n",
      " 3   ms_played          149860 non-null  int64 \n",
      " 4   track_name         149860 non-null  object\n",
      " 5   artist_name        149860 non-null  object\n",
      " 6   album_name         149860 non-null  object\n",
      " 7   reason_start       149717 non-null  object\n",
      " 8   reason_end         149743 non-null  object\n",
      " 9   shuffle            149860 non-null  bool  \n",
      " 10  skipped            149860 non-null  bool  \n",
      "dtypes: bool(2), int64(1), object(8)\n",
      "memory usage: 10.6+ MB\n",
      "None\n"
     ]
    }
   ],
   "source": [
    "print(df.info())"
   ]
  },
  {
   "cell_type": "code",
   "execution_count": null,
   "id": "37b316cf-2c7e-4fd4-bf57-f0f8171e05af",
   "metadata": {},
   "outputs": [],
   "source": [
    "Data Set Overview\n",
    "\n",
    "Shape:\n",
    "Data set has 149860 data with 11 columns\n",
    "\n",
    "Variable type:\n",
    "Comprising of 8 objects, 1 interger and 2 bool\n",
    "\n",
    "Basic Statistics:\n",
    "Count: The number of non-null entries are consistent across variables. Mean Standard Deviation Min and Max Values: Ms_played has a mean of 1.28 a minimum value of 0.0 and maximum value of 1.56.\n",
    "Percentile(25%,50%, 75%): These indicate the duration of data for instance. 25% of ms_played are within 2,7, 50% are within 1.38 and 75% are within 2.1. \n",
    "unique values: Some columns are showing unique values like reason_start showing 149717 and reason _end showing 149743. These unique values are indication of missing values.\n"
   ]
  },
  {
   "cell_type": "code",
   "execution_count": 14,
   "id": "18e3c820-2bac-4afe-ab47-a47ad28c4b18",
   "metadata": {},
   "outputs": [
    {
     "name": "stdout",
     "output_type": "stream",
     "text": [
      "spotify_track_uri      0\n",
      "ts                     0\n",
      "platform               0\n",
      "ms_played              0\n",
      "track_name             0\n",
      "artist_name            0\n",
      "album_name             0\n",
      "reason_start         143\n",
      "reason_end           117\n",
      "shuffle                0\n",
      "skipped                0\n",
      "dtype: int64\n"
     ]
    }
   ],
   "source": [
    "print(df.isnull() .sum())"
   ]
  },
  {
   "cell_type": "code",
   "execution_count": null,
   "id": "da8e71e4-40d1-484a-9cad-e9d6915bf703",
   "metadata": {},
   "outputs": [],
   "source": [
    "Checking for missing values. reason_start has 143 missing values and reason_end has 117 missing values."
   ]
  },
  {
   "cell_type": "code",
   "execution_count": 32,
   "id": "f94bc7b8-1ffe-4a40-a4fa-a484984acb0a",
   "metadata": {},
   "outputs": [],
   "source": [
    "df.rename(columns={'ts': 'timestamp', 'ms_played': 'milliseconds_played'}, inplace=True)"
   ]
  },
  {
   "cell_type": "code",
   "execution_count": 34,
   "id": "3b71bdb9-d3b8-438c-8a3a-a0093c749f0e",
   "metadata": {},
   "outputs": [],
   "source": [
    "df['minutes_played'] = df['milliseconds_played'] / (1000 * 60)"
   ]
  },
  {
   "cell_type": "code",
   "execution_count": null,
   "id": "ae1a7c3a-ae6d-4378-899c-50fcfbe1b813",
   "metadata": {},
   "outputs": [],
   "source": [
    "Analyzing the data:"
   ]
  },
  {
   "cell_type": "code",
   "execution_count": 36,
   "id": "ccd41def-1f36-4b9d-83d9-827b0072b112",
   "metadata": {},
   "outputs": [
    {
     "name": "stdout",
     "output_type": "stream",
     "text": [
      "track_name\n",
      "Ode To The Mets                                                                        67431580\n",
      "The Return of the King (feat. Sir James Galway, Viggo Mortensen and Renee Fleming)     64401661\n",
      "The Fellowship Reunited (feat. Sir James Galway, Viggo Mortensen and Renée Fleming)    44756730\n",
      "19 Dias y 500 Noches - En Directo                                                      42914042\n",
      "In the Blood                                                                           38427087\n",
      "Claudia's Theme - Version Eight                                                        37120900\n",
      "Dying Breed                                                                            36182653\n",
      "The Breaking of the Fellowship (feat. \"In Dreams\")                                     35990898\n",
      "All These Things That I've Done                                                        35754915\n",
      "Caution                                                                                35619945\n",
      "Name: milliseconds_played, dtype: int64\n"
     ]
    }
   ],
   "source": [
    "top_tracks = df.groupby('track_name')['milliseconds_played'].sum().sort_values(ascending=False).head(10)\n",
    "print(top_tracks)"
   ]
  },
  {
   "cell_type": "code",
   "execution_count": null,
   "id": "e5be009d-e229-4207-abd9-4ed1c4a34bc1",
   "metadata": {},
   "outputs": [],
   "source": [
    "These are the most played songs "
   ]
  },
  {
   "cell_type": "code",
   "execution_count": 38,
   "id": "5a1c25e9-2204-4462-9f9a-1cf3585407ce",
   "metadata": {},
   "outputs": [
    {
     "name": "stdout",
     "output_type": "stream",
     "text": [
      "artist_name\n",
      "The Beatles           1210184552\n",
      "The Killers           1059556516\n",
      "John Mayer             725219443\n",
      "Bob Dylan              569456396\n",
      "Paul McCartney         357354370\n",
      "Howard Shore           348930675\n",
      "The Strokes            317508419\n",
      "The Rolling Stones     307917009\n",
      "Pink Floyd             260531842\n",
      "Led Zeppelin           248338279\n",
      "Name: milliseconds_played, dtype: int64\n"
     ]
    }
   ],
   "source": [
    "top_artists = df.groupby('artist_name')['milliseconds_played'].sum().sort_values(ascending=False).head(10)\n",
    "print(top_artists)"
   ]
  },
  {
   "cell_type": "code",
   "execution_count": null,
   "id": "10650fec-de59-4223-8d0e-481a903aed8e",
   "metadata": {},
   "outputs": [],
   "source": [
    "These are the most played artists"
   ]
  },
  {
   "cell_type": "code",
   "execution_count": 46,
   "id": "0ba63b07-2f9d-46b3-bf97-1c0bbb4356d0",
   "metadata": {},
   "outputs": [
    {
     "data": {
      "text/plain": [
       "<bound method DataFrame.info of                      spotify_track_uri    platform  milliseconds_played  \\\n",
       "timestamp                                                                 \n",
       "7/8/13 2:44     2J3n32GeLmMjwuAzyhcSNe  web player                 3185   \n",
       "7/8/13 2:45     1oHxIPqJyvAYHy0PVrDU98  web player                61865   \n",
       "7/8/13 2:50     487OPlneJNni3NWC8SYqhW  web player               285386   \n",
       "7/8/13 2:52     5IyblF777jLZj1vGHG2UD3  web player               134022   \n",
       "7/8/13 3:17     0GgAAB0ZMllFhbNc3mAodO  web player                    0   \n",
       "...                                ...         ...                  ...   \n",
       "12/15/24 23:06  4Fz1WWr5o0OrlIcZxcyZtK     android                 1247   \n",
       "12/15/24 23:06  0qHMhBZqYb99yhX9BHcIkV     android                 1515   \n",
       "12/15/24 23:06  0HHdujGjOZChTrl8lJWEIq     android                 1283   \n",
       "12/15/24 23:06  7peh6LUcdNPcMdrSH4JPsM     android                 1306   \n",
       "12/15/24 23:06  6iGU74CwXuT4XVepjc9Emf     android                 1893   \n",
       "\n",
       "                                                       track_name  \\\n",
       "timestamp                                                           \n",
       "7/8/13 2:44                                   Say It, Just Say It   \n",
       "7/8/13 2:45         Drinking from the Bottle (feat. Tinie Tempah)   \n",
       "7/8/13 2:50                                           Born To Die   \n",
       "7/8/13 2:52                                      Off To The Races   \n",
       "7/8/13 3:17                                             Half Mast   \n",
       "...                                                           ...   \n",
       "12/15/24 23:06                                    On The Way Home   \n",
       "12/15/24 23:06             Magical Mystery Tour - Remastered 2009   \n",
       "12/15/24 23:06  Stop This Train - Live at the Nokia Theatre, L...   \n",
       "12/15/24 23:06             I Don't Trust Myself (With Loving You)   \n",
       "12/15/24 23:06                              God Only Knows - Mono   \n",
       "\n",
       "                      artist_name  \\\n",
       "timestamp                           \n",
       "7/8/13 2:44          The Mowgli's   \n",
       "7/8/13 2:45         Calvin Harris   \n",
       "7/8/13 2:50          Lana Del Rey   \n",
       "7/8/13 2:52          Lana Del Rey   \n",
       "7/8/13 3:17     Empire Of The Sun   \n",
       "...                           ...   \n",
       "12/15/24 23:06         John Mayer   \n",
       "12/15/24 23:06        The Beatles   \n",
       "12/15/24 23:06         John Mayer   \n",
       "12/15/24 23:06         John Mayer   \n",
       "12/15/24 23:06     The Beach Boys   \n",
       "\n",
       "                                                       album_name  \\\n",
       "timestamp                                                           \n",
       "7/8/13 2:44                                  Waiting For The Dawn   \n",
       "7/8/13 2:45                                             18 Months   \n",
       "7/8/13 2:50                    Born To Die - The Paradise Edition   \n",
       "7/8/13 2:52                    Born To Die - The Paradise Edition   \n",
       "7/8/13 3:17                                    Walking On A Dream   \n",
       "...                                                           ...   \n",
       "12/15/24 23:06                                    Paradise Valley   \n",
       "12/15/24 23:06                               Magical Mystery Tour   \n",
       "12/15/24 23:06  Where the Light Is: John Mayer Live In Los Ang...   \n",
       "12/15/24 23:06                                          Continuum   \n",
       "12/15/24 23:06                                         Pet Sounds   \n",
       "\n",
       "               reason_start reason_end  shuffle  skipped  minutes_played  \n",
       "timestamp                                                                 \n",
       "7/8/13 2:44        autoplay   clickrow    False    False        0.053083  \n",
       "7/8/13 2:45        clickrow   clickrow    False    False        1.031083  \n",
       "7/8/13 2:50        clickrow    unknown    False    False        4.756433  \n",
       "7/8/13 2:52       trackdone   clickrow    False    False        2.233700  \n",
       "7/8/13 3:17        clickrow    nextbtn    False    False        0.000000  \n",
       "...                     ...        ...      ...      ...             ...  \n",
       "12/15/24 23:06       fwdbtn     fwdbtn     True     True        0.020783  \n",
       "12/15/24 23:06       fwdbtn     fwdbtn     True     True        0.025250  \n",
       "12/15/24 23:06       fwdbtn     fwdbtn     True     True        0.021383  \n",
       "12/15/24 23:06       fwdbtn     fwdbtn     True     True        0.021767  \n",
       "12/15/24 23:06       fwdbtn     fwdbtn     True     True        0.031550  \n",
       "\n",
       "[149860 rows x 11 columns]>"
      ]
     },
     "execution_count": 46,
     "metadata": {},
     "output_type": "execute_result"
    }
   ],
   "source": [
    "df.info"
   ]
  },
  {
   "cell_type": "code",
   "execution_count": 50,
   "id": "b8bdfab5-7434-4cdf-8d20-83198228a6c1",
   "metadata": {},
   "outputs": [
    {
     "data": {
      "text/plain": [
       "Index(['spotify_track_uri', 'platform', 'milliseconds_played', 'track_name',\n",
       "       'artist_name', 'album_name', 'reason_start', 'reason_end', 'shuffle',\n",
       "       'skipped', 'minutes_played'],\n",
       "      dtype='object')"
      ]
     },
     "execution_count": 50,
     "metadata": {},
     "output_type": "execute_result"
    }
   ],
   "source": [
    "df.columns"
   ]
  },
  {
   "cell_type": "code",
   "execution_count": 80,
   "id": "408eb70c-a8ba-4fdf-afa5-9befe39a8e16",
   "metadata": {},
   "outputs": [
    {
     "name": "stdout",
     "output_type": "stream",
     "text": [
      "                   spotify_track_uri    platform  milliseconds_played  \\\n",
      "reason_start                                                            \n",
      "autoplay      2J3n32GeLmMjwuAzyhcSNe  web player                 3185   \n",
      "clickrow      1oHxIPqJyvAYHy0PVrDU98  web player                61865   \n",
      "clickrow      487OPlneJNni3NWC8SYqhW  web player               285386   \n",
      "trackdone     5IyblF777jLZj1vGHG2UD3  web player               134022   \n",
      "clickrow      0GgAAB0ZMllFhbNc3mAodO  web player                    0   \n",
      "\n",
      "                                                 track_name  \\\n",
      "reason_start                                                  \n",
      "autoplay                                Say It, Just Say It   \n",
      "clickrow      Drinking from the Bottle (feat. Tinie Tempah)   \n",
      "clickrow                                        Born To Die   \n",
      "trackdone                                  Off To The Races   \n",
      "clickrow                                          Half Mast   \n",
      "\n",
      "                    artist_name                          album_name  \\\n",
      "reason_start                                                          \n",
      "autoplay           The Mowgli's                Waiting For The Dawn   \n",
      "clickrow          Calvin Harris                           18 Months   \n",
      "clickrow           Lana Del Rey  Born To Die - The Paradise Edition   \n",
      "trackdone          Lana Del Rey  Born To Die - The Paradise Edition   \n",
      "clickrow      Empire Of The Sun                  Walking On A Dream   \n",
      "\n",
      "             reason_end  shuffle  skipped  minutes_played  \n",
      "reason_start                                               \n",
      "autoplay       clickrow    False    False        0.053083  \n",
      "clickrow       clickrow    False    False        1.031083  \n",
      "clickrow        unknown    False    False        4.756433  \n",
      "trackdone      clickrow    False    False        2.233700  \n",
      "clickrow        nextbtn    False    False        0.000000  \n"
     ]
    }
   ],
   "source": [
    "print(df.head())"
   ]
  },
  {
   "cell_type": "code",
   "execution_count": 98,
   "id": "c76faf7b-2304-4421-bbd5-64079d69695a",
   "metadata": {},
   "outputs": [],
   "source": [
    "import seaborn as sns"
   ]
  },
  {
   "cell_type": "code",
   "execution_count": 100,
   "id": "29fc492f-2009-42fc-ac78-ecc28f113149",
   "metadata": {},
   "outputs": [],
   "source": [
    "  df.dropna(inplace=True) "
   ]
  },
  {
   "cell_type": "code",
   "execution_count": 102,
   "id": "6f5123b8-9ddc-436b-9772-ebc09c61c6d0",
   "metadata": {},
   "outputs": [],
   "source": [
    "  df['track_name'] = df['track_name'].str.lower()\n",
    "  df['artist_name'] = df['artist_name'].str.lower()\n",
    "  df['album_name'] = df['album_name'].str.lower()"
   ]
  },
  {
   "cell_type": "code",
   "execution_count": null,
   "id": "3a4fa146-5444-418b-82a7-43246266309e",
   "metadata": {},
   "outputs": [],
   "source": [
    "Converted text columns to lowercase to maintain consistency"
   ]
  },
  {
   "cell_type": "code",
   "execution_count": 112,
   "id": "18305897-acb6-485e-b438-d133239576a4",
   "metadata": {},
   "outputs": [
    {
     "data": {
      "text/plain": [
       "shuffle\n",
       "True     74.458161\n",
       "False    25.541839\n",
       "Name: proportion, dtype: float64"
      ]
     },
     "execution_count": 112,
     "metadata": {},
     "output_type": "execute_result"
    }
   ],
   "source": [
    "  shuffle_counts = df['shuffle'].value_counts(normalize=True) * 100\n",
    "  shuffle_counts"
   ]
  },
  {
   "cell_type": "code",
   "execution_count": null,
   "id": "922f42a7-e046-4dc2-b87e-46698402ec71",
   "metadata": {},
   "outputs": [],
   "source": [
    "Shuffle VS played"
   ]
  },
  {
   "cell_type": "code",
   "execution_count": 120,
   "id": "9ff6d490-fb96-4b00-a546-a678c1362695",
   "metadata": {},
   "outputs": [
    {
     "name": "stdout",
     "output_type": "stream",
     "text": [
      "Percentage of Skipped vs Completed Tracks:\n",
      " skipped\n",
      "False    94.749099\n",
      "True      5.250901\n",
      "Name: proportion, dtype: float64\n"
     ]
    }
   ],
   "source": [
    "skip_rate = df['skipped'].value_counts(normalize=True) * 100\n",
    "print(\"Percentage of Skipped vs Completed Tracks:\\n\", skip_rate)"
   ]
  },
  {
   "cell_type": "code",
   "execution_count": null,
   "id": "f001123b-d98b-4cd2-83bb-a9d5b644be71",
   "metadata": {},
   "outputs": [],
   "source": [
    "This shows the most skipped tracks "
   ]
  },
  {
   "cell_type": "code",
   "execution_count": null,
   "id": "4c3d97dd-ba86-4625-8ba2-2de7c83254d8",
   "metadata": {},
   "outputs": [],
   "source": [
    "Data visualization"
   ]
  },
  {
   "cell_type": "code",
   "execution_count": 122,
   "id": "77c11f88-b583-4d8f-b094-50fa411ebec5",
   "metadata": {},
   "outputs": [
    {
     "data": {
      "image/png": "[encoded data removed]",
      "text/plain": [
       "<Figure size 1000x500 with 1 Axes>"
      ]
     },
     "metadata": {},
     "output_type": "display_data"
    }
   ],
   "source": [
    "plt.figure(figsize=(10,5))\n",
    "top_tracks.plot(kind='bar', color='skyblue')\n",
    "plt.title(\"Top 10 Most Played Songs\")\n",
    "plt.xlabel(\"Song Name\")\n",
    "plt.ylabel(\"Total Minutes Played\")\n",
    "plt.xticks(rotation=45)\n",
    "plt.show()"
   ]
  },
  {
   "cell_type": "code",
   "execution_count": null,
   "id": "66782c77-4e5b-4bab-be83-0238bebb0bd0",
   "metadata": {},
   "outputs": [],
   "source": [
    "This analysis show that certain songs were played more frequently.  Ode to The Mets was played the most."
   ]
  },
  {
   "cell_type": "code",
   "execution_count": 124,
   "id": "2d7df852-ca39-42ed-92cf-a2b094466f5d",
   "metadata": {},
   "outputs": [
    {
     "data": {
      "image/png": "[encoded data removed]",
      "text/plain": [
       "<Figure size 1000x500 with 1 Axes>"
      ]
     },
     "metadata": {},
     "output_type": "display_data"
    }
   ],
   "source": [
    "plt.figure(figsize=(10,5))\n",
    "top_artists.plot(kind='bar', color='lightcoral')\n",
    "plt.title(\"Top 10 Most Played Artists\")\n",
    "plt.xlabel(\"Artist Name\")\n",
    "plt.ylabel(\"Total Minutes Played\")\n",
    "plt.xticks(rotation=45)\n",
    "plt.show()"
   ]
  },
  {
   "cell_type": "code",
   "execution_count": null,
   "id": "b9882e05-23bc-4019-8f2f-2a2d2d1397a4",
   "metadata": {},
   "outputs": [],
   "source": [
    "This analysis shows that Beatles group was the most listened to."
   ]
  },
  {
   "cell_type": "code",
   "execution_count": 126,
   "id": "a4032577-7bff-47be-9ad0-12f7e010d7b4",
   "metadata": {},
   "outputs": [
    {
     "data": {
      "image/png": "[encoded data removed]",
      "text/plain": [
       "<Figure size 600x600 with 1 Axes>"
      ]
     },
     "metadata": {},
     "output_type": "display_data"
    }
   ],
   "source": [
    "plt.figure(figsize=(6,6))\n",
    "skip_rate.plot(kind='pie', autopct='%1.1f%%', colors=['red', 'green'])\n",
    "plt.title(\"Skipped vs Completed Tracks\")\n",
    "plt.ylabel(\"\")\n",
    "plt.show()"
   ]
  },
  {
   "cell_type": "code",
   "execution_count": null,
   "id": "bce85e0c-d922-403e-88f1-36444668b921",
   "metadata": {},
   "outputs": [],
   "source": [
    "94.7% of the tracks were skipped, indicating that users often move to the next songs before finishing the song.  \n",
    "Only about 5.3% of the tracks were fully played, which suggests users might be frequently browsing or not engaging with recommended songs. "
   ]
  },
  {
   "cell_type": "code",
   "execution_count": null,
   "id": "42e5c7ca-7245-4b84-b412-73b0c07bdef0",
   "metadata": {},
   "outputs": [],
   "source": [
    "Business Question:  Why is the skip rate so high, and how can users engagement be improved?\n",
    "From our analysis:\n",
    "\n",
    "94.7% of tracks were skipped before completion.\n",
    "Only 5.3% of tracks were completed, which indicates low engagement.\n",
    "This raises key questions:\n",
    "\n",
    "Are users skipping songs due to bad recommendations?\n",
    "Are certain artists, genres, or songs skipped more often?\n",
    "Do skip rates vary based on platform (mobile vs desktop)?\n",
    "How does shuffle mode impact song engagement?"
   ]
  },
  {
   "cell_type": "code",
   "execution_count": null,
   "id": "9d75c78c-ff84-4dcb-ac0c-e55e215cd5ee",
   "metadata": {},
   "outputs": [],
   "source": [
    "Recommedndations:"
   ]
  },
  {
   "cell_type": "code",
   "execution_count": 128,
   "id": "41bbfac9-4117-4619-bd83-0997041dbba1",
   "metadata": {},
   "outputs": [
    {
     "name": "stdout",
     "output_type": "stream",
     "text": [
      "Top 10 Most Skipped Artists:\n",
      " artist_name\n",
      "the beatles           388\n",
      "the killers           197\n",
      "bob dylan             163\n",
      "john mayer            153\n",
      "led zeppelin          128\n",
      "the rolling stones    125\n",
      "the script            121\n",
      "imagine dragons       116\n",
      "paul mccartney        107\n",
      "radiohead             102\n",
      "Name: count, dtype: int64\n"
     ]
    }
   ],
   "source": [
    "skipped_songs = df[df['skipped'] == True]\n",
    "top_skipped_artists = skipped_songs['artist_name'].value_counts().head(10)\n",
    "print(\"Top 10 Most Skipped Artists:\\n\", top_skipped_artists)"
   ]
  },
  {
   "cell_type": "code",
   "execution_count": null,
   "id": "45614679-1e63-47b6-9d58-ac87e7272204",
   "metadata": {},
   "outputs": [],
   "source": [
    "1. Will recommend a better system that will reduce skip rates and increase user rention."
   ]
  },
  {
   "cell_type": "code",
   "execution_count": 130,
   "id": "143f2102-b95f-4a07-978c-d5b0341344a4",
   "metadata": {},
   "outputs": [
    {
     "name": "stdout",
     "output_type": "stream",
     "text": [
      "Top 10 Least Skipped Songs:\n",
      " track_name\n",
      "ode to the mets                      206\n",
      "in the blood                         180\n",
      "dying breed                          164\n",
      "caution                              162\n",
      "for what it's worth                  145\n",
      "19 dias y 500 noches - en directo    143\n",
      "all these things that i've done      139\n",
      "concerning hobbits                   135\n",
      "come together - remastered 2009      135\n",
      "yesterday - remastered 2009          133\n",
      "Name: count, dtype: int64\n"
     ]
    }
   ],
   "source": [
    "low_skip_songs = df[df['skipped'] == False]['track_name'].value_counts().head(10)\n",
    "print(\"Top 10 Least Skipped Songs:\\n\", low_skip_songs)"
   ]
  },
  {
   "cell_type": "code",
   "execution_count": null,
   "id": "529f8c4a-9726-406a-bcb5-6895f7dc7fff",
   "metadata": {},
   "outputs": [],
   "source": [
    "2. Users will likely spend more time streaming music."
   ]
  },
  {
   "cell_type": "code",
   "execution_count": 132,
   "id": "583eaf48-bf65-470b-9982-e883e459e366",
   "metadata": {},
   "outputs": [
    {
     "name": "stdout",
     "output_type": "stream",
     "text": [
      "Skip Rate with Shuffle Mode:\n",
      " shuffle\n",
      "False    4.323745\n",
      "True     5.568949\n",
      "Name: skipped, dtype: float64\n"
     ]
    }
   ],
   "source": [
    "skip_by_shuffle = df.groupby('shuffle')['skipped'].mean() * 100\n",
    "print(\"Skip Rate with Shuffle Mode:\\n\", skip_by_shuffle)"
   ]
  },
  {
   "cell_type": "code",
   "execution_count": null,
   "id": "1bc42d60-7a86-45e1-be5b-3a2a96f28e7e",
   "metadata": {},
   "outputs": [],
   "source": [
    "3.  If users favorite tracks are the preferred tracks, skip rates will be low. "
   ]
  },
  {
   "cell_type": "code",
   "execution_count": null,
   "id": "1e317a39-4e43-42db-9303-fee50847d876",
   "metadata": {},
   "outputs": [],
   "source": [
    "Machine Learning "
   ]
  },
  {
   "cell_type": "code",
   "execution_count": 134,
   "id": "2a24306a-ea53-43a3-b51a-5a2b5dced641",
   "metadata": {},
   "outputs": [],
   "source": [
    "import pandas as pd\n",
    "import numpy as np\n",
    "\n",
    "data = {\n",
    "    'timestamp': pd.date_range(start='2023-01-01', periods=100, freq='D'),\n",
    "    'milliseconds_played': np.random.randint(1000, 10000, size=100)\n",
    "}\n",
    "\n",
    "df = pd.DataFrame(data)\n",
    "\n",
    "\n",
    "df['day_of_year'] = df['timestamp'].dt.dayofyear\n",
    "\n",
    "\n",
    "X = df[['day_of_year']]\n",
    "y = df['milliseconds_played']"
   ]
  },
  {
   "cell_type": "code",
   "execution_count": null,
   "id": "6b5a906d-0788-4763-b057-6d6b7d3a49af",
   "metadata": {},
   "outputs": [],
   "source": [
    "Will divide the data into training and testing sets to evaluate model performance "
   ]
  },
  {
   "cell_type": "code",
   "execution_count": 136,
   "id": "05f9d6fd-2103-4b16-8fcb-3b02a5ed477a",
   "metadata": {},
   "outputs": [],
   "source": [
    "from sklearn.model_selection import train_test_split\n",
    "\n",
    "X_train, X_test, y_train, y_test = train_test_split(X, y, test_size=0.2, random_state=42)"
   ]
  },
  {
   "cell_type": "code",
   "execution_count": null,
   "id": "4dd7fa45-ea0a-41ca-8534-9d7279170582",
   "metadata": {},
   "outputs": [],
   "source": [
    "Will impplement linear regression to model the relationship between the day of the year and listening time. "
   ]
  },
  {
   "cell_type": "code",
   "execution_count": 138,
   "id": "9e390f0d-f169-486e-b4cb-4e530887addb",
   "metadata": {},
   "outputs": [],
   "source": [
    "from sklearn.linear_model import LinearRegression\n",
    "import matplotlib.pyplot as plt\n"
   ]
  },
  {
   "cell_type": "code",
   "execution_count": 140,
   "id": "f35f55d1-912c-4adc-a7f8-4cb60ee0fc71",
   "metadata": {},
   "outputs": [
    {
     "data": {
      "text/html": [
       "<style>#sk-container-id-1 {\n",
       "  /* Definition of color scheme common for light and dark mode */\n",
       "  --sklearn-color-text: black;\n",
       "  --sklearn-color-line: gray;\n",
       "  /* Definition of color scheme for unfitted estimators */\n",
       "  --sklearn-color-unfitted-level-0: #fff5e6;\n",
       "  --sklearn-color-unfitted-level-1: #f6e4d2;\n",
       "  --sklearn-color-unfitted-level-2: #ffe0b3;\n",
       "  --sklearn-color-unfitted-level-3: chocolate;\n",
       "  /* Definition of color scheme for fitted estimators */\n",
       "  --sklearn-color-fitted-level-0: #f0f8ff;\n",
       "  --sklearn-color-fitted-level-1: #d4ebff;\n",
       "  --sklearn-color-fitted-level-2: #b3dbfd;\n",
       "  --sklearn-color-fitted-level-3: cornflowerblue;\n",
       "\n",
       "  /* Specific color for light theme */\n",
       "  --sklearn-color-text-on-default-background: var(--sg-text-color, var(--theme-code-foreground, var(--jp-content-font-color1, black)));\n",
       "  --sklearn-color-background: var(--sg-background-color, var(--theme-background, var(--jp-layout-color0, white)));\n",
       "  --sklearn-color-border-box: var(--sg-text-color, var(--theme-code-foreground, var(--jp-content-font-color1, black)));\n",
       "  --sklearn-color-icon: #696969;\n",
       "\n",
       "  @media (prefers-color-scheme: dark) {\n",
       "    /* Redefinition of color scheme for dark theme */\n",
       "    --sklearn-color-text-on-default-background: var(--sg-text-color, var(--theme-code-foreground, var(--jp-content-font-color1, white)));\n",
       "    --sklearn-color-background: var(--sg-background-color, var(--theme-background, var(--jp-layout-color0, #111)));\n",
       "    --sklearn-color-border-box: var(--sg-text-color, var(--theme-code-foreground, var(--jp-content-font-color1, white)));\n",
       "    --sklearn-color-icon: #878787;\n",
       "  }\n",
       "}\n",
       "\n",
       "#sk-container-id-1 {\n",
       "  color: var(--sklearn-color-text);\n",
       "}\n",
       "\n",
       "#sk-container-id-1 pre {\n",
       "  padding: 0;\n",
       "}\n",
       "\n",
       "#sk-container-id-1 input.sk-hidden--visually {\n",
       "  border: 0;\n",
       "  clip: rect(1px 1px 1px 1px);\n",
       "  clip: rect(1px, 1px, 1px, 1px);\n",
       "  height: 1px;\n",
       "  margin: -1px;\n",
       "  overflow: hidden;\n",
       "  padding: 0;\n",
       "  position: absolute;\n",
       "  width: 1px;\n",
       "}\n",
       "\n",
       "#sk-container-id-1 div.sk-dashed-wrapped {\n",
       "  border: 1px dashed var(--sklearn-color-line);\n",
       "  margin: 0 0.4em 0.5em 0.4em;\n",
       "  box-sizing: border-box;\n",
       "  padding-bottom: 0.4em;\n",
       "  background-color: var(--sklearn-color-background);\n",
       "}\n",
       "\n",
       "#sk-container-id-1 div.sk-container {\n",
       "  /* jupyter's `normalize.less` sets `[hidden] { display: none; }`\n",
       "     but bootstrap.min.css set `[hidden] { display: none !important; }`\n",
       "     so we also need the `!important` here to be able to override the\n",
       "     default hidden behavior on the sphinx rendered scikit-learn.org.\n",
       "     See: https://github.com/scikit-learn/scikit-learn/issues/21755 */\n",
       "  display: inline-block !important;\n",
       "  position: relative;\n",
       "}\n",
       "\n",
       "#sk-container-id-1 div.sk-text-repr-fallback {\n",
       "  display: none;\n",
       "}\n",
       "\n",
       "div.sk-parallel-item,\n",
       "div.sk-serial,\n",
       "div.sk-item {\n",
       "  /* draw centered vertical line to link estimators */\n",
       "  background-image: linear-gradient(var(--sklearn-color-text-on-default-background), var(--sklearn-color-text-on-default-background));\n",
       "  background-size: 2px 100%;\n",
       "  background-repeat: no-repeat;\n",
       "  background-position: center center;\n",
       "}\n",
       "\n",
       "/* Parallel-specific style estimator block */\n",
       "\n",
       "#sk-container-id-1 div.sk-parallel-item::after {\n",
       "  content: \"\";\n",
       "  width: 100%;\n",
       "  border-bottom: 2px solid var(--sklearn-color-text-on-default-background);\n",
       "  flex-grow: 1;\n",
       "}\n",
       "\n",
       "#sk-container-id-1 div.sk-parallel {\n",
       "  display: flex;\n",
       "  align-items: stretch;\n",
       "  justify-content: center;\n",
       "  background-color: var(--sklearn-color-background);\n",
       "  position: relative;\n",
       "}\n",
       "\n",
       "#sk-container-id-1 div.sk-parallel-item {\n",
       "  display: flex;\n",
       "  flex-direction: column;\n",
       "}\n",
       "\n",
       "#sk-container-id-1 div.sk-parallel-item:first-child::after {\n",
       "  align-self: flex-end;\n",
       "  width: 50%;\n",
       "}\n",
       "\n",
       "#sk-container-id-1 div.sk-parallel-item:last-child::after {\n",
       "  align-self: flex-start;\n",
       "  width: 50%;\n",
       "}\n",
       "\n",
       "#sk-container-id-1 div.sk-parallel-item:only-child::after {\n",
       "  width: 0;\n",
       "}\n",
       "\n",
       "/* Serial-specific style estimator block */\n",
       "\n",
       "#sk-container-id-1 div.sk-serial {\n",
       "  display: flex;\n",
       "  flex-direction: column;\n",
       "  align-items: center;\n",
       "  background-color: var(--sklearn-color-background);\n",
       "  padding-right: 1em;\n",
       "  padding-left: 1em;\n",
       "}\n",
       "\n",
       "\n",
       "/* Toggleable style: style used for estimator/Pipeline/ColumnTransformer box that is\n",
       "clickable and can be expanded/collapsed.\n",
       "- Pipeline and ColumnTransformer use this feature and define the default style\n",
       "- Estimators will overwrite some part of the style using the `sk-estimator` class\n",
       "*/\n",
       "\n",
       "/* Pipeline and ColumnTransformer style (default) */\n",
       "\n",
       "#sk-container-id-1 div.sk-toggleable {\n",
       "  /* Default theme specific background. It is overwritten whether we have a\n",
       "  specific estimator or a Pipeline/ColumnTransformer */\n",
       "  background-color: var(--sklearn-color-background);\n",
       "}\n",
       "\n",
       "/* Toggleable label */\n",
       "#sk-container-id-1 label.sk-toggleable__label {\n",
       "  cursor: pointer;\n",
       "  display: block;\n",
       "  width: 100%;\n",
       "  margin-bottom: 0;\n",
       "  padding: 0.5em;\n",
       "  box-sizing: border-box;\n",
       "  text-align: center;\n",
       "}\n",
       "\n",
       "#sk-container-id-1 label.sk-toggleable__label-arrow:before {\n",
       "  /* Arrow on the left of the label */\n",
       "  content: \"▸\";\n",
       "  float: left;\n",
       "  margin-right: 0.25em;\n",
       "  color: var(--sklearn-color-icon);\n",
       "}\n",
       "\n",
       "#sk-container-id-1 label.sk-toggleable__label-arrow:hover:before {\n",
       "  color: var(--sklearn-color-text);\n",
       "}\n",
       "\n",
       "/* Toggleable content - dropdown */\n",
       "\n",
       "#sk-container-id-1 div.sk-toggleable__content {\n",
       "  max-height: 0;\n",
       "  max-width: 0;\n",
       "  overflow: hidden;\n",
       "  text-align: left;\n",
       "  /* unfitted */\n",
       "  background-color: var(--sklearn-color-unfitted-level-0);\n",
       "}\n",
       "\n",
       "#sk-container-id-1 div.sk-toggleable__content.fitted {\n",
       "  /* fitted */\n",
       "  background-color: var(--sklearn-color-fitted-level-0);\n",
       "}\n",
       "\n",
       "#sk-container-id-1 div.sk-toggleable__content pre {\n",
       "  margin: 0.2em;\n",
       "  border-radius: 0.25em;\n",
       "  color: var(--sklearn-color-text);\n",
       "  /* unfitted */\n",
       "  background-color: var(--sklearn-color-unfitted-level-0);\n",
       "}\n",
       "\n",
       "#sk-container-id-1 div.sk-toggleable__content.fitted pre {\n",
       "  /* unfitted */\n",
       "  background-color: var(--sklearn-color-fitted-level-0);\n",
       "}\n",
       "\n",
       "#sk-container-id-1 input.sk-toggleable__control:checked~div.sk-toggleable__content {\n",
       "  /* Expand drop-down */\n",
       "  max-height: 200px;\n",
       "  max-width: 100%;\n",
       "  overflow: auto;\n",
       "}\n",
       "\n",
       "#sk-container-id-1 input.sk-toggleable__control:checked~label.sk-toggleable__label-arrow:before {\n",
       "  content: \"▾\";\n",
       "}\n",
       "\n",
       "/* Pipeline/ColumnTransformer-specific style */\n",
       "\n",
       "#sk-container-id-1 div.sk-label input.sk-toggleable__control:checked~label.sk-toggleable__label {\n",
       "  color: var(--sklearn-color-text);\n",
       "  background-color: var(--sklearn-color-unfitted-level-2);\n",
       "}\n",
       "\n",
       "#sk-container-id-1 div.sk-label.fitted input.sk-toggleable__control:checked~label.sk-toggleable__label {\n",
       "  background-color: var(--sklearn-color-fitted-level-2);\n",
       "}\n",
       "\n",
       "/* Estimator-specific style */\n",
       "\n",
       "/* Colorize estimator box */\n",
       "#sk-container-id-1 div.sk-estimator input.sk-toggleable__control:checked~label.sk-toggleable__label {\n",
       "  /* unfitted */\n",
       "  background-color: var(--sklearn-color-unfitted-level-2);\n",
       "}\n",
       "\n",
       "#sk-container-id-1 div.sk-estimator.fitted input.sk-toggleable__control:checked~label.sk-toggleable__label {\n",
       "  /* fitted */\n",
       "  background-color: var(--sklearn-color-fitted-level-2);\n",
       "}\n",
       "\n",
       "#sk-container-id-1 div.sk-label label.sk-toggleable__label,\n",
       "#sk-container-id-1 div.sk-label label {\n",
       "  /* The background is the default theme color */\n",
       "  color: var(--sklearn-color-text-on-default-background);\n",
       "}\n",
       "\n",
       "/* On hover, darken the color of the background */\n",
       "#sk-container-id-1 div.sk-label:hover label.sk-toggleable__label {\n",
       "  color: var(--sklearn-color-text);\n",
       "  background-color: var(--sklearn-color-unfitted-level-2);\n",
       "}\n",
       "\n",
       "/* Label box, darken color on hover, fitted */\n",
       "#sk-container-id-1 div.sk-label.fitted:hover label.sk-toggleable__label.fitted {\n",
       "  color: var(--sklearn-color-text);\n",
       "  background-color: var(--sklearn-color-fitted-level-2);\n",
       "}\n",
       "\n",
       "/* Estimator label */\n",
       "\n",
       "#sk-container-id-1 div.sk-label label {\n",
       "  font-family: monospace;\n",
       "  font-weight: bold;\n",
       "  display: inline-block;\n",
       "  line-height: 1.2em;\n",
       "}\n",
       "\n",
       "#sk-container-id-1 div.sk-label-container {\n",
       "  text-align: center;\n",
       "}\n",
       "\n",
       "/* Estimator-specific */\n",
       "#sk-container-id-1 div.sk-estimator {\n",
       "  font-family: monospace;\n",
       "  border: 1px dotted var(--sklearn-color-border-box);\n",
       "  border-radius: 0.25em;\n",
       "  box-sizing: border-box;\n",
       "  margin-bottom: 0.5em;\n",
       "  /* unfitted */\n",
       "  background-color: var(--sklearn-color-unfitted-level-0);\n",
       "}\n",
       "\n",
       "#sk-container-id-1 div.sk-estimator.fitted {\n",
       "  /* fitted */\n",
       "  background-color: var(--sklearn-color-fitted-level-0);\n",
       "}\n",
       "\n",
       "/* on hover */\n",
       "#sk-container-id-1 div.sk-estimator:hover {\n",
       "  /* unfitted */\n",
       "  background-color: var(--sklearn-color-unfitted-level-2);\n",
       "}\n",
       "\n",
       "#sk-container-id-1 div.sk-estimator.fitted:hover {\n",
       "  /* fitted */\n",
       "  background-color: var(--sklearn-color-fitted-level-2);\n",
       "}\n",
       "\n",
       "/* Specification for estimator info (e.g. \"i\" and \"?\") */\n",
       "\n",
       "/* Common style for \"i\" and \"?\" */\n",
       "\n",
       ".sk-estimator-doc-link,\n",
       "a:link.sk-estimator-doc-link,\n",
       "a:visited.sk-estimator-doc-link {\n",
       "  float: right;\n",
       "  font-size: smaller;\n",
       "  line-height: 1em;\n",
       "  font-family: monospace;\n",
       "  background-color: var(--sklearn-color-background);\n",
       "  border-radius: 1em;\n",
       "  height: 1em;\n",
       "  width: 1em;\n",
       "  text-decoration: none !important;\n",
       "  margin-left: 1ex;\n",
       "  /* unfitted */\n",
       "  border: var(--sklearn-color-unfitted-level-1) 1pt solid;\n",
       "  color: var(--sklearn-color-unfitted-level-1);\n",
       "}\n",
       "\n",
       ".sk-estimator-doc-link.fitted,\n",
       "a:link.sk-estimator-doc-link.fitted,\n",
       "a:visited.sk-estimator-doc-link.fitted {\n",
       "  /* fitted */\n",
       "  border: var(--sklearn-color-fitted-level-1) 1pt solid;\n",
       "  color: var(--sklearn-color-fitted-level-1);\n",
       "}\n",
       "\n",
       "/* On hover */\n",
       "div.sk-estimator:hover .sk-estimator-doc-link:hover,\n",
       ".sk-estimator-doc-link:hover,\n",
       "div.sk-label-container:hover .sk-estimator-doc-link:hover,\n",
       ".sk-estimator-doc-link:hover {\n",
       "  /* unfitted */\n",
       "  background-color: var(--sklearn-color-unfitted-level-3);\n",
       "  color: var(--sklearn-color-background);\n",
       "  text-decoration: none;\n",
       "}\n",
       "\n",
       "div.sk-estimator.fitted:hover .sk-estimator-doc-link.fitted:hover,\n",
       ".sk-estimator-doc-link.fitted:hover,\n",
       "div.sk-label-container:hover .sk-estimator-doc-link.fitted:hover,\n",
       ".sk-estimator-doc-link.fitted:hover {\n",
       "  /* fitted */\n",
       "  background-color: var(--sklearn-color-fitted-level-3);\n",
       "  color: var(--sklearn-color-background);\n",
       "  text-decoration: none;\n",
       "}\n",
       "\n",
       "/* Span, style for the box shown on hovering the info icon */\n",
       ".sk-estimator-doc-link span {\n",
       "  display: none;\n",
       "  z-index: 9999;\n",
       "  position: relative;\n",
       "  font-weight: normal;\n",
       "  right: .2ex;\n",
       "  padding: .5ex;\n",
       "  margin: .5ex;\n",
       "  width: min-content;\n",
       "  min-width: 20ex;\n",
       "  max-width: 50ex;\n",
       "  color: var(--sklearn-color-text);\n",
       "  box-shadow: 2pt 2pt 4pt #999;\n",
       "  /* unfitted */\n",
       "  background: var(--sklearn-color-unfitted-level-0);\n",
       "  border: .5pt solid var(--sklearn-color-unfitted-level-3);\n",
       "}\n",
       "\n",
       ".sk-estimator-doc-link.fitted span {\n",
       "  /* fitted */\n",
       "  background: var(--sklearn-color-fitted-level-0);\n",
       "  border: var(--sklearn-color-fitted-level-3);\n",
       "}\n",
       "\n",
       ".sk-estimator-doc-link:hover span {\n",
       "  display: block;\n",
       "}\n",
       "\n",
       "/* \"?\"-specific style due to the `<a>` HTML tag */\n",
       "\n",
       "#sk-container-id-1 a.estimator_doc_link {\n",
       "  float: right;\n",
       "  font-size: 1rem;\n",
       "  line-height: 1em;\n",
       "  font-family: monospace;\n",
       "  background-color: var(--sklearn-color-background);\n",
       "  border-radius: 1rem;\n",
       "  height: 1rem;\n",
       "  width: 1rem;\n",
       "  text-decoration: none;\n",
       "  /* unfitted */\n",
       "  color: var(--sklearn-color-unfitted-level-1);\n",
       "  border: var(--sklearn-color-unfitted-level-1) 1pt solid;\n",
       "}\n",
       "\n",
       "#sk-container-id-1 a.estimator_doc_link.fitted {\n",
       "  /* fitted */\n",
       "  border: var(--sklearn-color-fitted-level-1) 1pt solid;\n",
       "  color: var(--sklearn-color-fitted-level-1);\n",
       "}\n",
       "\n",
       "/* On hover */\n",
       "#sk-container-id-1 a.estimator_doc_link:hover {\n",
       "  /* unfitted */\n",
       "  background-color: var(--sklearn-color-unfitted-level-3);\n",
       "  color: var(--sklearn-color-background);\n",
       "  text-decoration: none;\n",
       "}\n",
       "\n",
       "#sk-container-id-1 a.estimator_doc_link.fitted:hover {\n",
       "  /* fitted */\n",
       "  background-color: var(--sklearn-color-fitted-level-3);\n",
       "}\n",
       "</style><div id=\"sk-container-id-1\" class=\"sk-top-container\"><div class=\"sk-text-repr-fallback\"><pre>LinearRegression()</pre><b>In a Jupyter environment, please rerun this cell to show the HTML representation or trust the notebook. <br />On GitHub, the HTML representation is unable to render, please try loading this page with nbviewer.org.</b></div><div class=\"sk-container\" hidden><div class=\"sk-item\"><div class=\"sk-estimator fitted sk-toggleable\"><input class=\"sk-toggleable__control sk-hidden--visually\" id=\"sk-estimator-id-1\" type=\"checkbox\" checked><label for=\"sk-estimator-id-1\" class=\"sk-toggleable__label fitted sk-toggleable__label-arrow fitted\">&nbsp;&nbsp;LinearRegression<a class=\"sk-estimator-doc-link fitted\" rel=\"noreferrer\" target=\"_blank\" href=\"https://scikit-learn.org/1.5/modules/generated/sklearn.linear_model.LinearRegression.html\">?<span>Documentation for LinearRegression</span></a><span class=\"sk-estimator-doc-link fitted\">i<span>Fitted</span></span></label><div class=\"sk-toggleable__content fitted\"><pre>LinearRegression()</pre></div> </div></div></div></div>"
      ],
      "text/plain": [
       "LinearRegression()"
      ]
     },
     "execution_count": 140,
     "metadata": {},
     "output_type": "execute_result"
    }
   ],
   "source": [
    "linear_model = LinearRegression()\n",
    "linear_model.fit(X_train, y_train)\n"
   ]
  },
  {
   "cell_type": "code",
   "execution_count": 142,
   "id": "f3082bd8-1f83-4393-a9b2-b80be38f709a",
   "metadata": {},
   "outputs": [],
   "source": [
    "y_pred_linear = linear_model.predict(X_test)\n"
   ]
  },
  {
   "cell_type": "code",
   "execution_count": 144,
   "id": "0e2acb33-6319-412e-82e7-c6fb7f41fbd0",
   "metadata": {},
   "outputs": [
    {
     "data": {
      "image/png": "[encoded data removed]",
      "text/plain": [
       "<Figure size 1000x500 with 1 Axes>"
      ]
     },
     "metadata": {},
     "output_type": "display_data"
    }
   ],
   "source": [
    "plt.figure(figsize=(10, 5))\n",
    "plt.scatter(X_test, y_test, color='blue', label='Actual')\n",
    "plt.plot(X_test, y_pred_linear, color='red', linewidth=2, label='Predicted')\n",
    "plt.title('Linear Regression: Actual vs Predicted')\n",
    "plt.xlabel('Day of Year')\n",
    "plt.ylabel('Milliseconds Played')\n",
    "plt.legend()\n",
    "plt.show()"
   ]
  },
  {
   "cell_type": "code",
   "execution_count": null,
   "id": "872a19f9-fc77-45a0-b00a-188a495e6168",
   "metadata": {},
   "outputs": [],
   "source": [
    "The linear regression line shows a slight downward Trend as the day of the year increases. However, the actual values represented by the blue dots show a lot of variation that the linear model doesn't capture very well. The actual values, don't follow a straight line, the model fails to capture the non-linear relationships between day of year and milliseconds. "
   ]
  },
  {
   "cell_type": "code",
   "execution_count": null,
   "id": "667f12d9-59cc-42be-9b73-2426e49a021a",
   "metadata": {},
   "outputs": [],
   "source": [
    "SVR can capture Non-linear relationships in the data.  "
   ]
  },
  {
   "cell_type": "code",
   "execution_count": null,
   "id": "828c1d7b-2c52-4e86-855e-3b3b1d08a153",
   "metadata": {},
   "outputs": [],
   "source": []
  },
  {
   "cell_type": "code",
   "execution_count": 148,
   "id": "d506a566-efea-49f6-9d0a-f097db0ee980",
   "metadata": {},
   "outputs": [],
   "source": [
    "from sklearn.svm import SVR\n",
    "from sklearn.preprocessing import StandardScaler\n",
    "\n"
   ]
  },
  {
   "cell_type": "code",
   "execution_count": 150,
   "id": "5e0d2843-1346-4c81-9384-f8aa3ba36c38",
   "metadata": {},
   "outputs": [],
   "source": [
    "scaler = StandardScaler()\n",
    "X_train_scaled = scaler.fit_transform(X_train)\n",
    "X_test_scaled = scaler.transform(X_test)\n"
   ]
  },
  {
   "cell_type": "code",
   "execution_count": 152,
   "id": "77514f0c-93d6-47d2-9715-b16972f1331d",
   "metadata": {},
   "outputs": [
    {
     "data": {
      "text/html": [
       "<style>#sk-container-id-2 {\n",
       "  /* Definition of color scheme common for light and dark mode */\n",
       "  --sklearn-color-text: black;\n",
       "  --sklearn-color-line: gray;\n",
       "  /* Definition of color scheme for unfitted estimators */\n",
       "  --sklearn-color-unfitted-level-0: #fff5e6;\n",
       "  --sklearn-color-unfitted-level-1: #f6e4d2;\n",
       "  --sklearn-color-unfitted-level-2: #ffe0b3;\n",
       "  --sklearn-color-unfitted-level-3: chocolate;\n",
       "  /* Definition of color scheme for fitted estimators */\n",
       "  --sklearn-color-fitted-level-0: #f0f8ff;\n",
       "  --sklearn-color-fitted-level-1: #d4ebff;\n",
       "  --sklearn-color-fitted-level-2: #b3dbfd;\n",
       "  --sklearn-color-fitted-level-3: cornflowerblue;\n",
       "\n",
       "  /* Specific color for light theme */\n",
       "  --sklearn-color-text-on-default-background: var(--sg-text-color, var(--theme-code-foreground, var(--jp-content-font-color1, black)));\n",
       "  --sklearn-color-background: var(--sg-background-color, var(--theme-background, var(--jp-layout-color0, white)));\n",
       "  --sklearn-color-border-box: var(--sg-text-color, var(--theme-code-foreground, var(--jp-content-font-color1, black)));\n",
       "  --sklearn-color-icon: #696969;\n",
       "\n",
       "  @media (prefers-color-scheme: dark) {\n",
       "    /* Redefinition of color scheme for dark theme */\n",
       "    --sklearn-color-text-on-default-background: var(--sg-text-color, var(--theme-code-foreground, var(--jp-content-font-color1, white)));\n",
       "    --sklearn-color-background: var(--sg-background-color, var(--theme-background, var(--jp-layout-color0, #111)));\n",
       "    --sklearn-color-border-box: var(--sg-text-color, var(--theme-code-foreground, var(--jp-content-font-color1, white)));\n",
       "    --sklearn-color-icon: #878787;\n",
       "  }\n",
       "}\n",
       "\n",
       "#sk-container-id-2 {\n",
       "  color: var(--sklearn-color-text);\n",
       "}\n",
       "\n",
       "#sk-container-id-2 pre {\n",
       "  padding: 0;\n",
       "}\n",
       "\n",
       "#sk-container-id-2 input.sk-hidden--visually {\n",
       "  border: 0;\n",
       "  clip: rect(1px 1px 1px 1px);\n",
       "  clip: rect(1px, 1px, 1px, 1px);\n",
       "  height: 1px;\n",
       "  margin: -1px;\n",
       "  overflow: hidden;\n",
       "  padding: 0;\n",
       "  position: absolute;\n",
       "  width: 1px;\n",
       "}\n",
       "\n",
       "#sk-container-id-2 div.sk-dashed-wrapped {\n",
       "  border: 1px dashed var(--sklearn-color-line);\n",
       "  margin: 0 0.4em 0.5em 0.4em;\n",
       "  box-sizing: border-box;\n",
       "  padding-bottom: 0.4em;\n",
       "  background-color: var(--sklearn-color-background);\n",
       "}\n",
       "\n",
       "#sk-container-id-2 div.sk-container {\n",
       "  /* jupyter's `normalize.less` sets `[hidden] { display: none; }`\n",
       "     but bootstrap.min.css set `[hidden] { display: none !important; }`\n",
       "     so we also need the `!important` here to be able to override the\n",
       "     default hidden behavior on the sphinx rendered scikit-learn.org.\n",
       "     See: https://github.com/scikit-learn/scikit-learn/issues/21755 */\n",
       "  display: inline-block !important;\n",
       "  position: relative;\n",
       "}\n",
       "\n",
       "#sk-container-id-2 div.sk-text-repr-fallback {\n",
       "  display: none;\n",
       "}\n",
       "\n",
       "div.sk-parallel-item,\n",
       "div.sk-serial,\n",
       "div.sk-item {\n",
       "  /* draw centered vertical line to link estimators */\n",
       "  background-image: linear-gradient(var(--sklearn-color-text-on-default-background), var(--sklearn-color-text-on-default-background));\n",
       "  background-size: 2px 100%;\n",
       "  background-repeat: no-repeat;\n",
       "  background-position: center center;\n",
       "}\n",
       "\n",
       "/* Parallel-specific style estimator block */\n",
       "\n",
       "#sk-container-id-2 div.sk-parallel-item::after {\n",
       "  content: \"\";\n",
       "  width: 100%;\n",
       "  border-bottom: 2px solid var(--sklearn-color-text-on-default-background);\n",
       "  flex-grow: 1;\n",
       "}\n",
       "\n",
       "#sk-container-id-2 div.sk-parallel {\n",
       "  display: flex;\n",
       "  align-items: stretch;\n",
       "  justify-content: center;\n",
       "  background-color: var(--sklearn-color-background);\n",
       "  position: relative;\n",
       "}\n",
       "\n",
       "#sk-container-id-2 div.sk-parallel-item {\n",
       "  display: flex;\n",
       "  flex-direction: column;\n",
       "}\n",
       "\n",
       "#sk-container-id-2 div.sk-parallel-item:first-child::after {\n",
       "  align-self: flex-end;\n",
       "  width: 50%;\n",
       "}\n",
       "\n",
       "#sk-container-id-2 div.sk-parallel-item:last-child::after {\n",
       "  align-self: flex-start;\n",
       "  width: 50%;\n",
       "}\n",
       "\n",
       "#sk-container-id-2 div.sk-parallel-item:only-child::after {\n",
       "  width: 0;\n",
       "}\n",
       "\n",
       "/* Serial-specific style estimator block */\n",
       "\n",
       "#sk-container-id-2 div.sk-serial {\n",
       "  display: flex;\n",
       "  flex-direction: column;\n",
       "  align-items: center;\n",
       "  background-color: var(--sklearn-color-background);\n",
       "  padding-right: 1em;\n",
       "  padding-left: 1em;\n",
       "}\n",
       "\n",
       "\n",
       "/* Toggleable style: style used for estimator/Pipeline/ColumnTransformer box that is\n",
       "clickable and can be expanded/collapsed.\n",
       "- Pipeline and ColumnTransformer use this feature and define the default style\n",
       "- Estimators will overwrite some part of the style using the `sk-estimator` class\n",
       "*/\n",
       "\n",
       "/* Pipeline and ColumnTransformer style (default) */\n",
       "\n",
       "#sk-container-id-2 div.sk-toggleable {\n",
       "  /* Default theme specific background. It is overwritten whether we have a\n",
       "  specific estimator or a Pipeline/ColumnTransformer */\n",
       "  background-color: var(--sklearn-color-background);\n",
       "}\n",
       "\n",
       "/* Toggleable label */\n",
       "#sk-container-id-2 label.sk-toggleable__label {\n",
       "  cursor: pointer;\n",
       "  display: block;\n",
       "  width: 100%;\n",
       "  margin-bottom: 0;\n",
       "  padding: 0.5em;\n",
       "  box-sizing: border-box;\n",
       "  text-align: center;\n",
       "}\n",
       "\n",
       "#sk-container-id-2 label.sk-toggleable__label-arrow:before {\n",
       "  /* Arrow on the left of the label */\n",
       "  content: \"▸\";\n",
       "  float: left;\n",
       "  margin-right: 0.25em;\n",
       "  color: var(--sklearn-color-icon);\n",
       "}\n",
       "\n",
       "#sk-container-id-2 label.sk-toggleable__label-arrow:hover:before {\n",
       "  color: var(--sklearn-color-text);\n",
       "}\n",
       "\n",
       "/* Toggleable content - dropdown */\n",
       "\n",
       "#sk-container-id-2 div.sk-toggleable__content {\n",
       "  max-height: 0;\n",
       "  max-width: 0;\n",
       "  overflow: hidden;\n",
       "  text-align: left;\n",
       "  /* unfitted */\n",
       "  background-color: var(--sklearn-color-unfitted-level-0);\n",
       "}\n",
       "\n",
       "#sk-container-id-2 div.sk-toggleable__content.fitted {\n",
       "  /* fitted */\n",
       "  background-color: var(--sklearn-color-fitted-level-0);\n",
       "}\n",
       "\n",
       "#sk-container-id-2 div.sk-toggleable__content pre {\n",
       "  margin: 0.2em;\n",
       "  border-radius: 0.25em;\n",
       "  color: var(--sklearn-color-text);\n",
       "  /* unfitted */\n",
       "  background-color: var(--sklearn-color-unfitted-level-0);\n",
       "}\n",
       "\n",
       "#sk-container-id-2 div.sk-toggleable__content.fitted pre {\n",
       "  /* unfitted */\n",
       "  background-color: var(--sklearn-color-fitted-level-0);\n",
       "}\n",
       "\n",
       "#sk-container-id-2 input.sk-toggleable__control:checked~div.sk-toggleable__content {\n",
       "  /* Expand drop-down */\n",
       "  max-height: 200px;\n",
       "  max-width: 100%;\n",
       "  overflow: auto;\n",
       "}\n",
       "\n",
       "#sk-container-id-2 input.sk-toggleable__control:checked~label.sk-toggleable__label-arrow:before {\n",
       "  content: \"▾\";\n",
       "}\n",
       "\n",
       "/* Pipeline/ColumnTransformer-specific style */\n",
       "\n",
       "#sk-container-id-2 div.sk-label input.sk-toggleable__control:checked~label.sk-toggleable__label {\n",
       "  color: var(--sklearn-color-text);\n",
       "  background-color: var(--sklearn-color-unfitted-level-2);\n",
       "}\n",
       "\n",
       "#sk-container-id-2 div.sk-label.fitted input.sk-toggleable__control:checked~label.sk-toggleable__label {\n",
       "  background-color: var(--sklearn-color-fitted-level-2);\n",
       "}\n",
       "\n",
       "/* Estimator-specific style */\n",
       "\n",
       "/* Colorize estimator box */\n",
       "#sk-container-id-2 div.sk-estimator input.sk-toggleable__control:checked~label.sk-toggleable__label {\n",
       "  /* unfitted */\n",
       "  background-color: var(--sklearn-color-unfitted-level-2);\n",
       "}\n",
       "\n",
       "#sk-container-id-2 div.sk-estimator.fitted input.sk-toggleable__control:checked~label.sk-toggleable__label {\n",
       "  /* fitted */\n",
       "  background-color: var(--sklearn-color-fitted-level-2);\n",
       "}\n",
       "\n",
       "#sk-container-id-2 div.sk-label label.sk-toggleable__label,\n",
       "#sk-container-id-2 div.sk-label label {\n",
       "  /* The background is the default theme color */\n",
       "  color: var(--sklearn-color-text-on-default-background);\n",
       "}\n",
       "\n",
       "/* On hover, darken the color of the background */\n",
       "#sk-container-id-2 div.sk-label:hover label.sk-toggleable__label {\n",
       "  color: var(--sklearn-color-text);\n",
       "  background-color: var(--sklearn-color-unfitted-level-2);\n",
       "}\n",
       "\n",
       "/* Label box, darken color on hover, fitted */\n",
       "#sk-container-id-2 div.sk-label.fitted:hover label.sk-toggleable__label.fitted {\n",
       "  color: var(--sklearn-color-text);\n",
       "  background-color: var(--sklearn-color-fitted-level-2);\n",
       "}\n",
       "\n",
       "/* Estimator label */\n",
       "\n",
       "#sk-container-id-2 div.sk-label label {\n",
       "  font-family: monospace;\n",
       "  font-weight: bold;\n",
       "  display: inline-block;\n",
       "  line-height: 1.2em;\n",
       "}\n",
       "\n",
       "#sk-container-id-2 div.sk-label-container {\n",
       "  text-align: center;\n",
       "}\n",
       "\n",
       "/* Estimator-specific */\n",
       "#sk-container-id-2 div.sk-estimator {\n",
       "  font-family: monospace;\n",
       "  border: 1px dotted var(--sklearn-color-border-box);\n",
       "  border-radius: 0.25em;\n",
       "  box-sizing: border-box;\n",
       "  margin-bottom: 0.5em;\n",
       "  /* unfitted */\n",
       "  background-color: var(--sklearn-color-unfitted-level-0);\n",
       "}\n",
       "\n",
       "#sk-container-id-2 div.sk-estimator.fitted {\n",
       "  /* fitted */\n",
       "  background-color: var(--sklearn-color-fitted-level-0);\n",
       "}\n",
       "\n",
       "/* on hover */\n",
       "#sk-container-id-2 div.sk-estimator:hover {\n",
       "  /* unfitted */\n",
       "  background-color: var(--sklearn-color-unfitted-level-2);\n",
       "}\n",
       "\n",
       "#sk-container-id-2 div.sk-estimator.fitted:hover {\n",
       "  /* fitted */\n",
       "  background-color: var(--sklearn-color-fitted-level-2);\n",
       "}\n",
       "\n",
       "/* Specification for estimator info (e.g. \"i\" and \"?\") */\n",
       "\n",
       "/* Common style for \"i\" and \"?\" */\n",
       "\n",
       ".sk-estimator-doc-link,\n",
       "a:link.sk-estimator-doc-link,\n",
       "a:visited.sk-estimator-doc-link {\n",
       "  float: right;\n",
       "  font-size: smaller;\n",
       "  line-height: 1em;\n",
       "  font-family: monospace;\n",
       "  background-color: var(--sklearn-color-background);\n",
       "  border-radius: 1em;\n",
       "  height: 1em;\n",
       "  width: 1em;\n",
       "  text-decoration: none !important;\n",
       "  margin-left: 1ex;\n",
       "  /* unfitted */\n",
       "  border: var(--sklearn-color-unfitted-level-1) 1pt solid;\n",
       "  color: var(--sklearn-color-unfitted-level-1);\n",
       "}\n",
       "\n",
       ".sk-estimator-doc-link.fitted,\n",
       "a:link.sk-estimator-doc-link.fitted,\n",
       "a:visited.sk-estimator-doc-link.fitted {\n",
       "  /* fitted */\n",
       "  border: var(--sklearn-color-fitted-level-1) 1pt solid;\n",
       "  color: var(--sklearn-color-fitted-level-1);\n",
       "}\n",
       "\n",
       "/* On hover */\n",
       "div.sk-estimator:hover .sk-estimator-doc-link:hover,\n",
       ".sk-estimator-doc-link:hover,\n",
       "div.sk-label-container:hover .sk-estimator-doc-link:hover,\n",
       ".sk-estimator-doc-link:hover {\n",
       "  /* unfitted */\n",
       "  background-color: var(--sklearn-color-unfitted-level-3);\n",
       "  color: var(--sklearn-color-background);\n",
       "  text-decoration: none;\n",
       "}\n",
       "\n",
       "div.sk-estimator.fitted:hover .sk-estimator-doc-link.fitted:hover,\n",
       ".sk-estimator-doc-link.fitted:hover,\n",
       "div.sk-label-container:hover .sk-estimator-doc-link.fitted:hover,\n",
       ".sk-estimator-doc-link.fitted:hover {\n",
       "  /* fitted */\n",
       "  background-color: var(--sklearn-color-fitted-level-3);\n",
       "  color: var(--sklearn-color-background);\n",
       "  text-decoration: none;\n",
       "}\n",
       "\n",
       "/* Span, style for the box shown on hovering the info icon */\n",
       ".sk-estimator-doc-link span {\n",
       "  display: none;\n",
       "  z-index: 9999;\n",
       "  position: relative;\n",
       "  font-weight: normal;\n",
       "  right: .2ex;\n",
       "  padding: .5ex;\n",
       "  margin: .5ex;\n",
       "  width: min-content;\n",
       "  min-width: 20ex;\n",
       "  max-width: 50ex;\n",
       "  color: var(--sklearn-color-text);\n",
       "  box-shadow: 2pt 2pt 4pt #999;\n",
       "  /* unfitted */\n",
       "  background: var(--sklearn-color-unfitted-level-0);\n",
       "  border: .5pt solid var(--sklearn-color-unfitted-level-3);\n",
       "}\n",
       "\n",
       ".sk-estimator-doc-link.fitted span {\n",
       "  /* fitted */\n",
       "  background: var(--sklearn-color-fitted-level-0);\n",
       "  border: var(--sklearn-color-fitted-level-3);\n",
       "}\n",
       "\n",
       ".sk-estimator-doc-link:hover span {\n",
       "  display: block;\n",
       "}\n",
       "\n",
       "/* \"?\"-specific style due to the `<a>` HTML tag */\n",
       "\n",
       "#sk-container-id-2 a.estimator_doc_link {\n",
       "  float: right;\n",
       "  font-size: 1rem;\n",
       "  line-height: 1em;\n",
       "  font-family: monospace;\n",
       "  background-color: var(--sklearn-color-background);\n",
       "  border-radius: 1rem;\n",
       "  height: 1rem;\n",
       "  width: 1rem;\n",
       "  text-decoration: none;\n",
       "  /* unfitted */\n",
       "  color: var(--sklearn-color-unfitted-level-1);\n",
       "  border: var(--sklearn-color-unfitted-level-1) 1pt solid;\n",
       "}\n",
       "\n",
       "#sk-container-id-2 a.estimator_doc_link.fitted {\n",
       "  /* fitted */\n",
       "  border: var(--sklearn-color-fitted-level-1) 1pt solid;\n",
       "  color: var(--sklearn-color-fitted-level-1);\n",
       "}\n",
       "\n",
       "/* On hover */\n",
       "#sk-container-id-2 a.estimator_doc_link:hover {\n",
       "  /* unfitted */\n",
       "  background-color: var(--sklearn-color-unfitted-level-3);\n",
       "  color: var(--sklearn-color-background);\n",
       "  text-decoration: none;\n",
       "}\n",
       "\n",
       "#sk-container-id-2 a.estimator_doc_link.fitted:hover {\n",
       "  /* fitted */\n",
       "  background-color: var(--sklearn-color-fitted-level-3);\n",
       "}\n",
       "</style><div id=\"sk-container-id-2\" class=\"sk-top-container\"><div class=\"sk-text-repr-fallback\"><pre>SVR(C=100, gamma=0.1)</pre><b>In a Jupyter environment, please rerun this cell to show the HTML representation or trust the notebook. <br />On GitHub, the HTML representation is unable to render, please try loading this page with nbviewer.org.</b></div><div class=\"sk-container\" hidden><div class=\"sk-item\"><div class=\"sk-estimator fitted sk-toggleable\"><input class=\"sk-toggleable__control sk-hidden--visually\" id=\"sk-estimator-id-2\" type=\"checkbox\" checked><label for=\"sk-estimator-id-2\" class=\"sk-toggleable__label fitted sk-toggleable__label-arrow fitted\">&nbsp;&nbsp;SVR<a class=\"sk-estimator-doc-link fitted\" rel=\"noreferrer\" target=\"_blank\" href=\"https://scikit-learn.org/1.5/modules/generated/sklearn.svm.SVR.html\">?<span>Documentation for SVR</span></a><span class=\"sk-estimator-doc-link fitted\">i<span>Fitted</span></span></label><div class=\"sk-toggleable__content fitted\"><pre>SVR(C=100, gamma=0.1)</pre></div> </div></div></div></div>"
      ],
      "text/plain": [
       "SVR(C=100, gamma=0.1)"
      ]
     },
     "execution_count": 152,
     "metadata": {},
     "output_type": "execute_result"
    }
   ],
   "source": [
    "svr_model = SVR(kernel='rbf', C=100, gamma=0.1, epsilon=0.1)\n",
    "svr_model.fit(X_train_scaled, y_train)\n"
   ]
  },
  {
   "cell_type": "code",
   "execution_count": 154,
   "id": "6425223a-85b2-4562-87ba-f30266e09e46",
   "metadata": {},
   "outputs": [],
   "source": [
    "y_pred_svr = svr_model.predict(X_test_scaled)\n"
   ]
  },
  {
   "cell_type": "code",
   "execution_count": 156,
   "id": "e13a5819-f815-4cad-b79b-53446a1701da",
   "metadata": {},
   "outputs": [
    {
     "data": {
      "image/png": "[encoded data removed]",
      "text/plain": [
       "<Figure size 1000x500 with 1 Axes>"
      ]
     },
     "metadata": {},
     "output_type": "display_data"
    }
   ],
   "source": [
    "plt.figure(figsize=(10, 5))\n",
    "plt.scatter(X_test, y_test, color='blue', label='Actual')\n",
    "plt.scatter(X_test, y_pred_svr, color='red', label='Predicted', alpha=0.5)\n",
    "plt.title('Support Vector Regression: Actual vs Predicted')\n",
    "plt.xlabel('Day of Year')\n",
    "plt.ylabel('Milliseconds Played')\n",
    "plt.legend()\n",
    "plt.show()"
   ]
  },
  {
   "cell_type": "code",
   "execution_count": null,
   "id": "6a93c931-4c75-4fea-9c2f-29e355dbdd28",
   "metadata": {},
   "outputs": [],
   "source": [
    "Model Evaluation: will be looking at both models using metrics like Mean Absolute Error (MAE) and R-squared."
   ]
  },
  {
   "cell_type": "code",
   "execution_count": 158,
   "id": "f6ba7576-b7d2-42c3-9b58-ff7f908f924e",
   "metadata": {},
   "outputs": [],
   "source": [
    "from sklearn.metrics import mean_absolute_error, r2_score\n"
   ]
  },
  {
   "cell_type": "code",
   "execution_count": 160,
   "id": "e4d16e22-4555-49e1-ae9d-e05637305e63",
   "metadata": {},
   "outputs": [],
   "source": [
    "mae_linear = mean_absolute_error(y_test, y_pred_linear)\n",
    "r2_linear = r2_score(y_test, y_pred_linear)\n"
   ]
  },
  {
   "cell_type": "code",
   "execution_count": 162,
   "id": "cf4680c8-a270-4208-86bb-a96808edf275",
   "metadata": {},
   "outputs": [
    {
     "name": "stdout",
     "output_type": "stream",
     "text": [
      "Linear Regression - MAE: 1673.68, R-squared: -0.07\n",
      "SVR - MAE: 1804.92, R-squared: -0.23\n"
     ]
    }
   ],
   "source": [
    "mae_svr = mean_absolute_error(y_test, y_pred_svr)\n",
    "r2_svr = r2_score(y_test, y_pred_svr)\n",
    "\n",
    "print(f'Linear Regression - MAE: {mae_linear:.2f}, R-squared: {r2_linear:.2f}')\n",
    "print(f'SVR - MAE: {mae_svr:.2f}, R-squared: {r2_svr:.2f}')"
   ]
  },
  {
   "cell_type": "code",
   "execution_count": null,
   "id": "51b7c3c5-fb7e-40d7-969f-ddd708660318",
   "metadata": {},
   "outputs": [],
   "source": [
    "Overall, to predict spotify listening habits, the habit of not skipping non favorite song, randon forest =regressor model is the strongest choice.  Random Forest regressor can handle complex patterns and provide acrate predictions.   "
   ]
  },
  {
   "cell_type": "code",
   "execution_count": null,
   "id": "ef0d76f8-b908-403c-97bb-4a86c6e4686d",
   "metadata": {},
   "outputs": [],
   "source": [
    "Random Forest Regressor"
   ]
  },
  {
   "cell_type": "code",
   "execution_count": 168,
   "id": "7f59bc59-c6f6-48dd-8951-c3e83b2376e8",
   "metadata": {},
   "outputs": [],
   "source": [
    "from sklearn.ensemble import RandomForestRegressor\n",
    "\n",
    "rf = RandomForestRegressor(n_estimators=10).fit(X_train, y_train)"
   ]
  },
  {
   "cell_type": "code",
   "execution_count": 170,
   "id": "73b9620a-0831-4e5b-9901-0cad6f688c08",
   "metadata": {},
   "outputs": [],
   "source": [
    "import pandas as pd\n",
    "from sklearn.model_selection import train_test_split\n",
    "from sklearn.ensemble import RandomForestRegressor\n",
    "from sklearn.metrics import mean_absolute_error, r2_score\n",
    "import matplotlib.pyplot as plt\n"
   ]
  },
  {
   "cell_type": "code",
   "execution_count": null,
   "id": "11c3b07b-63c3-433c-a2ea-131cae39d2f9",
   "metadata": {},
   "outputs": [],
   "source": []
  }
 ],
 "metadata": {
  "kernelspec": {
   "display_name": "Python [conda env:base] *",
   "language": "python",
   "name": "conda-base-py"
  },
  "language_info": {
   "codemirror_mode": {
    "name": "ipython",
    "version": 3
   },
   "file_extension": ".py",
   "mimetype": "text/x-python",
   "name": "python",
   "nbconvert_exporter": "python",
   "pygments_lexer": "ipython3",
   "version": "3.12.7"
  }
 },
 "nbformat": 4,
 "nbformat_minor": 5
}
